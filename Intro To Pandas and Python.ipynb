{
 "cells": [
  {
   "attachments": {},
   "cell_type": "markdown",
   "metadata": {},
   "source": [
    "# Intro To Pandas and Python \n",
    "\n",
    "---"
   ]
  },
  {
   "cell_type": "markdown",
   "metadata": {
    "id": "YteAsMZXF0We"
   },
   "source": [
    "# What is Pandas?\n",
    "\n",
    "Pandas is a data analysis tool that allows for easy import and manipulation of data. It's really easy to use, and we'll cover the basics of how to get Pandas up and running. If you have familiarity with Excel, a lot of Pandas concepts should seem familiar. \n"
   ]
  },
  {
   "cell_type": "code",
   "execution_count": 2,
   "metadata": {
    "id": "kLrAAQhDKorz"
   },
   "outputs": [],
   "source": [
    "# Importing the Pandas Library\n",
    "\n",
    "import pandas as pd # Labeling this as pd is a standard practice. "
   ]
  },
  {
   "cell_type": "markdown",
   "metadata": {
    "id": "nctZbSQPJY-S"
   },
   "source": [
    "# Dataframes\n",
    "\n",
    "The basic structure for storing data in pandas is known as a <b>dataframe</b>. You can think of dataframes as tables of data that you can then start playing with and manipulating. To create a dataframe, we can use a similar structure as a dictionary. Each column name can be considered a sort of key, while the observations within that column can be viewed as values. Pandas takes this structure and interprets it as a dataframe, which is a data type in and of itself. \n"
   ]
  },
  {
   "cell_type": "code",
   "execution_count": 3,
   "metadata": {
    "colab": {
     "base_uri": "https://localhost:8080/",
     "height": 265
    },
    "executionInfo": {
     "elapsed": 374,
     "status": "ok",
     "timestamp": 1631039661690,
     "user": {
      "displayName": "John Kirollos",
      "photoUrl": "https://lh3.googleusercontent.com/a-/AOh14GhXlpWNgQGE88mhrSgUJB6Dx3RLSlEhHifAZALdwg=s64",
      "userId": "10752091771659842492"
     },
     "user_tz": 240
    },
    "id": "c-tDzBIgLWRO",
    "outputId": "a78fd4bb-09ac-488a-f7ca-8a6d06c07762"
   },
   "outputs": [
    {
     "name": "stdout",
     "output_type": "stream",
     "text": [
      "This is the printed dataframe:\n",
      "   Col1  Col2  Col3\n",
      "0     1     4     7\n",
      "1     2     5     8\n",
      "2     3     6     9\n",
      "\n",
      "This is a Pandas dataframe:\n"
     ]
    },
    {
     "data": {
      "text/html": [
       "<div>\n",
       "<style scoped>\n",
       "    .dataframe tbody tr th:only-of-type {\n",
       "        vertical-align: middle;\n",
       "    }\n",
       "\n",
       "    .dataframe tbody tr th {\n",
       "        vertical-align: top;\n",
       "    }\n",
       "\n",
       "    .dataframe thead th {\n",
       "        text-align: right;\n",
       "    }\n",
       "</style>\n",
       "<table border=\"1\" class=\"dataframe\">\n",
       "  <thead>\n",
       "    <tr style=\"text-align: right;\">\n",
       "      <th></th>\n",
       "      <th>Col1</th>\n",
       "      <th>Col2</th>\n",
       "      <th>Col3</th>\n",
       "    </tr>\n",
       "  </thead>\n",
       "  <tbody>\n",
       "    <tr>\n",
       "      <th>0</th>\n",
       "      <td>1</td>\n",
       "      <td>4</td>\n",
       "      <td>7</td>\n",
       "    </tr>\n",
       "    <tr>\n",
       "      <th>1</th>\n",
       "      <td>2</td>\n",
       "      <td>5</td>\n",
       "      <td>8</td>\n",
       "    </tr>\n",
       "    <tr>\n",
       "      <th>2</th>\n",
       "      <td>3</td>\n",
       "      <td>6</td>\n",
       "      <td>9</td>\n",
       "    </tr>\n",
       "  </tbody>\n",
       "</table>\n",
       "</div>"
      ],
      "text/plain": [
       "   Col1  Col2  Col3\n",
       "0     1     4     7\n",
       "1     2     5     8\n",
       "2     3     6     9"
      ]
     },
     "execution_count": 3,
     "metadata": {},
     "output_type": "execute_result"
    }
   ],
   "source": [
    "# Inititalize a new 3x3 Dataframe\n",
    "df = pd.DataFrame({\"Col1\": [1, 2, 3],\n",
    "                  \"Col2\": [4, 5, 6],\n",
    "                  \"Col3\": [7, 8, 9]})\n",
    "\n",
    "# Print dataframe\n",
    "print(\"This is the printed dataframe:\")\n",
    "print(df)\n",
    "\n",
    "# Just showing the dataframe\n",
    "print(\"\\nThis is a Pandas dataframe:\")\n",
    "df"
   ]
  },
  {
   "cell_type": "markdown",
   "metadata": {
    "id": "ZsdlyMyJL1EI"
   },
   "source": [
    "# Reading in External Data\n",
    "\n",
    "Often, you will be working with data that is already available. With this, you will need to know how to import data and how to begin working with it. For this lesson, we will be using two datasets. One consists of information on a number of universities and the other contains information about the types of students at each institution. "
   ]
  },
  {
   "cell_type": "code",
   "execution_count": 5,
   "metadata": {
    "id": "1lhvBXLlL0F2"
   },
   "outputs": [],
   "source": [
    "# Loading in the actual data. Please input the direct path from your drive. \n",
    "cc_institution_details = pd.read_csv('cc_institution_details.csv', encoding = \"ISO-8859-1\") \n",
    "cc_institution_grads = pd.read_csv('cc_institution_grads.csv')"
   ]
  },
  {
   "cell_type": "markdown",
   "metadata": {
    "id": "gCqzXbrN3_Ji"
   },
   "source": [
    "# Quick Look At The Data\n",
    "\n",
    "Once the data is loaded in, it is good to take a look at a snapshot of the dataframe. To do this, we use the function **head()**."
   ]
  },
  {
   "cell_type": "code",
   "execution_count": 6,
   "metadata": {
    "colab": {
     "base_uri": "https://localhost:8080/",
     "height": 503
    },
    "executionInfo": {
     "elapsed": 294,
     "status": "ok",
     "timestamp": 1631039653243,
     "user": {
      "displayName": "John Kirollos",
      "photoUrl": "https://lh3.googleusercontent.com/a-/AOh14GhXlpWNgQGE88mhrSgUJB6Dx3RLSlEhHifAZALdwg=s64",
      "userId": "10752091771659842492"
     },
     "user_tz": 240
    },
    "id": "_0mpx-gHXeTa",
    "outputId": "dd9b742f-6b93-4132-a63e-397a42bfd539"
   },
   "outputs": [
    {
     "data": {
      "text/html": [
       "<div>\n",
       "<style scoped>\n",
       "    .dataframe tbody tr th:only-of-type {\n",
       "        vertical-align: middle;\n",
       "    }\n",
       "\n",
       "    .dataframe tbody tr th {\n",
       "        vertical-align: top;\n",
       "    }\n",
       "\n",
       "    .dataframe thead th {\n",
       "        text-align: right;\n",
       "    }\n",
       "</style>\n",
       "<table border=\"1\" class=\"dataframe\">\n",
       "  <thead>\n",
       "    <tr style=\"text-align: right;\">\n",
       "      <th></th>\n",
       "      <th>unitid</th>\n",
       "      <th>chronname</th>\n",
       "      <th>city</th>\n",
       "      <th>state</th>\n",
       "      <th>level</th>\n",
       "      <th>control</th>\n",
       "      <th>basic</th>\n",
       "      <th>hbcu</th>\n",
       "      <th>flagship</th>\n",
       "      <th>long_x</th>\n",
       "      <th>...</th>\n",
       "      <th>vsa_grad_after6_transfer</th>\n",
       "      <th>vsa_grad_elsewhere_after6_transfer</th>\n",
       "      <th>vsa_enroll_after6_transfer</th>\n",
       "      <th>vsa_enroll_elsewhere_after6_transfer</th>\n",
       "      <th>similar</th>\n",
       "      <th>state_sector_ct</th>\n",
       "      <th>carnegie_ct</th>\n",
       "      <th>counted_pct</th>\n",
       "      <th>nicknames</th>\n",
       "      <th>cohort_size</th>\n",
       "    </tr>\n",
       "  </thead>\n",
       "  <tbody>\n",
       "    <tr>\n",
       "      <th>0</th>\n",
       "      <td>100654</td>\n",
       "      <td>Alabama A&amp;M University</td>\n",
       "      <td>Normal</td>\n",
       "      <td>Alabama</td>\n",
       "      <td>4-year</td>\n",
       "      <td>Public</td>\n",
       "      <td>Masters Colleges and Universities--larger prog...</td>\n",
       "      <td>X</td>\n",
       "      <td>NaN</td>\n",
       "      <td>-86.568502</td>\n",
       "      <td>...</td>\n",
       "      <td>36.4</td>\n",
       "      <td>5.6</td>\n",
       "      <td>17.2</td>\n",
       "      <td>11.1</td>\n",
       "      <td>232937|100724|405997|113607|139533|144005|2285...</td>\n",
       "      <td>13</td>\n",
       "      <td>386</td>\n",
       "      <td>99.7|07</td>\n",
       "      <td>NaN</td>\n",
       "      <td>882.0</td>\n",
       "    </tr>\n",
       "    <tr>\n",
       "      <th>1</th>\n",
       "      <td>100663</td>\n",
       "      <td>University of Alabama at Birmingham</td>\n",
       "      <td>Birmingham</td>\n",
       "      <td>Alabama</td>\n",
       "      <td>4-year</td>\n",
       "      <td>Public</td>\n",
       "      <td>Research Universities--very high research acti...</td>\n",
       "      <td>NaN</td>\n",
       "      <td>NaN</td>\n",
       "      <td>-86.809170</td>\n",
       "      <td>...</td>\n",
       "      <td>NaN</td>\n",
       "      <td>NaN</td>\n",
       "      <td>NaN</td>\n",
       "      <td>NaN</td>\n",
       "      <td>196060|180461|201885|145600|209542|236939|1268...</td>\n",
       "      <td>13</td>\n",
       "      <td>106</td>\n",
       "      <td>56.0|07</td>\n",
       "      <td>UAB</td>\n",
       "      <td>1376.0</td>\n",
       "    </tr>\n",
       "    <tr>\n",
       "      <th>2</th>\n",
       "      <td>100690</td>\n",
       "      <td>Amridge University</td>\n",
       "      <td>Montgomery</td>\n",
       "      <td>Alabama</td>\n",
       "      <td>4-year</td>\n",
       "      <td>Private not-for-profit</td>\n",
       "      <td>Baccalaureate Colleges--Arts &amp; Sciences</td>\n",
       "      <td>NaN</td>\n",
       "      <td>NaN</td>\n",
       "      <td>-86.174010</td>\n",
       "      <td>...</td>\n",
       "      <td>NaN</td>\n",
       "      <td>NaN</td>\n",
       "      <td>NaN</td>\n",
       "      <td>NaN</td>\n",
       "      <td>217925|441511|205124|247825|197647|221856|1353...</td>\n",
       "      <td>16</td>\n",
       "      <td>252</td>\n",
       "      <td>100.0|07</td>\n",
       "      <td>NaN</td>\n",
       "      <td>3.0</td>\n",
       "    </tr>\n",
       "    <tr>\n",
       "      <th>3</th>\n",
       "      <td>100706</td>\n",
       "      <td>University of Alabama at Huntsville</td>\n",
       "      <td>Huntsville</td>\n",
       "      <td>Alabama</td>\n",
       "      <td>4-year</td>\n",
       "      <td>Public</td>\n",
       "      <td>Research Universities--very high research acti...</td>\n",
       "      <td>NaN</td>\n",
       "      <td>NaN</td>\n",
       "      <td>-86.638420</td>\n",
       "      <td>...</td>\n",
       "      <td>0.0</td>\n",
       "      <td>0.0</td>\n",
       "      <td>0.0</td>\n",
       "      <td>0.0</td>\n",
       "      <td>232186|133881|196103|196413|207388|171128|1900...</td>\n",
       "      <td>13</td>\n",
       "      <td>106</td>\n",
       "      <td>43.1|07</td>\n",
       "      <td>UAH</td>\n",
       "      <td>759.0</td>\n",
       "    </tr>\n",
       "    <tr>\n",
       "      <th>4</th>\n",
       "      <td>100724</td>\n",
       "      <td>Alabama State University</td>\n",
       "      <td>Montgomery</td>\n",
       "      <td>Alabama</td>\n",
       "      <td>4-year</td>\n",
       "      <td>Public</td>\n",
       "      <td>Masters Colleges and Universities--larger prog...</td>\n",
       "      <td>X</td>\n",
       "      <td>NaN</td>\n",
       "      <td>-86.295677</td>\n",
       "      <td>...</td>\n",
       "      <td>NaN</td>\n",
       "      <td>NaN</td>\n",
       "      <td>NaN</td>\n",
       "      <td>NaN</td>\n",
       "      <td>100654|232937|242617|243197|144005|241739|2354...</td>\n",
       "      <td>13</td>\n",
       "      <td>386</td>\n",
       "      <td>88.0|07</td>\n",
       "      <td>ASU</td>\n",
       "      <td>1351.0</td>\n",
       "    </tr>\n",
       "  </tbody>\n",
       "</table>\n",
       "<p>5 rows × 62 columns</p>\n",
       "</div>"
      ],
      "text/plain": [
       "   unitid                            chronname        city    state   level  \\\n",
       "0  100654               Alabama A&M University      Normal  Alabama  4-year   \n",
       "1  100663  University of Alabama at Birmingham  Birmingham  Alabama  4-year   \n",
       "2  100690                   Amridge University  Montgomery  Alabama  4-year   \n",
       "3  100706  University of Alabama at Huntsville  Huntsville  Alabama  4-year   \n",
       "4  100724             Alabama State University  Montgomery  Alabama  4-year   \n",
       "\n",
       "                  control                                              basic  \\\n",
       "0                  Public  Masters Colleges and Universities--larger prog...   \n",
       "1                  Public  Research Universities--very high research acti...   \n",
       "2  Private not-for-profit            Baccalaureate Colleges--Arts & Sciences   \n",
       "3                  Public  Research Universities--very high research acti...   \n",
       "4                  Public  Masters Colleges and Universities--larger prog...   \n",
       "\n",
       "  hbcu flagship     long_x  ...  vsa_grad_after6_transfer  \\\n",
       "0    X      NaN -86.568502  ...                      36.4   \n",
       "1  NaN      NaN -86.809170  ...                       NaN   \n",
       "2  NaN      NaN -86.174010  ...                       NaN   \n",
       "3  NaN      NaN -86.638420  ...                       0.0   \n",
       "4    X      NaN -86.295677  ...                       NaN   \n",
       "\n",
       "  vsa_grad_elsewhere_after6_transfer  vsa_enroll_after6_transfer  \\\n",
       "0                                5.6                        17.2   \n",
       "1                                NaN                         NaN   \n",
       "2                                NaN                         NaN   \n",
       "3                                0.0                         0.0   \n",
       "4                                NaN                         NaN   \n",
       "\n",
       "   vsa_enroll_elsewhere_after6_transfer  \\\n",
       "0                                  11.1   \n",
       "1                                   NaN   \n",
       "2                                   NaN   \n",
       "3                                   0.0   \n",
       "4                                   NaN   \n",
       "\n",
       "                                             similar  state_sector_ct  \\\n",
       "0  232937|100724|405997|113607|139533|144005|2285...               13   \n",
       "1  196060|180461|201885|145600|209542|236939|1268...               13   \n",
       "2  217925|441511|205124|247825|197647|221856|1353...               16   \n",
       "3  232186|133881|196103|196413|207388|171128|1900...               13   \n",
       "4  100654|232937|242617|243197|144005|241739|2354...               13   \n",
       "\n",
       "   carnegie_ct  counted_pct  nicknames  cohort_size  \n",
       "0          386      99.7|07        NaN        882.0  \n",
       "1          106      56.0|07        UAB       1376.0  \n",
       "2          252     100.0|07        NaN          3.0  \n",
       "3          106      43.1|07        UAH        759.0  \n",
       "4          386      88.0|07        ASU       1351.0  \n",
       "\n",
       "[5 rows x 62 columns]"
      ]
     },
     "execution_count": 6,
     "metadata": {},
     "output_type": "execute_result"
    }
   ],
   "source": [
    "cc_institution_details.head()"
   ]
  },
  {
   "cell_type": "markdown",
   "metadata": {
    "id": "VODHEQSq4SVI"
   },
   "source": [
    "### Try it on your own!\n",
    "\n",
    "Try to show the head of our second dataframe **cc_institution_grads**."
   ]
  },
  {
   "cell_type": "code",
   "execution_count": 7,
   "metadata": {
    "id": "pDBAbqR547KV"
   },
   "outputs": [],
   "source": [
    "# Please enter your solution here."
   ]
  },
  {
   "cell_type": "code",
   "execution_count": 8,
   "metadata": {
    "cellView": "form",
    "id": "QXB7Fg6XXbnC"
   },
   "outputs": [
    {
     "data": {
      "text/html": [
       "<div>\n",
       "<style scoped>\n",
       "    .dataframe tbody tr th:only-of-type {\n",
       "        vertical-align: middle;\n",
       "    }\n",
       "\n",
       "    .dataframe tbody tr th {\n",
       "        vertical-align: top;\n",
       "    }\n",
       "\n",
       "    .dataframe thead th {\n",
       "        text-align: right;\n",
       "    }\n",
       "</style>\n",
       "<table border=\"1\" class=\"dataframe\">\n",
       "  <thead>\n",
       "    <tr style=\"text-align: right;\">\n",
       "      <th></th>\n",
       "      <th>unitid</th>\n",
       "      <th>year</th>\n",
       "      <th>gender</th>\n",
       "      <th>race</th>\n",
       "      <th>cohort</th>\n",
       "      <th>grad_cohort</th>\n",
       "      <th>grad_100</th>\n",
       "      <th>grad_150</th>\n",
       "      <th>grad_100_rate</th>\n",
       "      <th>grad_150_rate</th>\n",
       "    </tr>\n",
       "  </thead>\n",
       "  <tbody>\n",
       "    <tr>\n",
       "      <th>0</th>\n",
       "      <td>100760</td>\n",
       "      <td>2011</td>\n",
       "      <td>B</td>\n",
       "      <td>X</td>\n",
       "      <td>2y all</td>\n",
       "      <td>446.0</td>\n",
       "      <td>73.0</td>\n",
       "      <td>105.0</td>\n",
       "      <td>16.4</td>\n",
       "      <td>23.5</td>\n",
       "    </tr>\n",
       "    <tr>\n",
       "      <th>1</th>\n",
       "      <td>100760</td>\n",
       "      <td>2011</td>\n",
       "      <td>M</td>\n",
       "      <td>X</td>\n",
       "      <td>2y all</td>\n",
       "      <td>185.0</td>\n",
       "      <td>NaN</td>\n",
       "      <td>40.0</td>\n",
       "      <td>NaN</td>\n",
       "      <td>21.6</td>\n",
       "    </tr>\n",
       "    <tr>\n",
       "      <th>2</th>\n",
       "      <td>100760</td>\n",
       "      <td>2011</td>\n",
       "      <td>F</td>\n",
       "      <td>X</td>\n",
       "      <td>2y all</td>\n",
       "      <td>261.0</td>\n",
       "      <td>NaN</td>\n",
       "      <td>65.0</td>\n",
       "      <td>NaN</td>\n",
       "      <td>24.9</td>\n",
       "    </tr>\n",
       "    <tr>\n",
       "      <th>3</th>\n",
       "      <td>100760</td>\n",
       "      <td>2011</td>\n",
       "      <td>B</td>\n",
       "      <td>W</td>\n",
       "      <td>2y all</td>\n",
       "      <td>348.0</td>\n",
       "      <td>NaN</td>\n",
       "      <td>86.0</td>\n",
       "      <td>NaN</td>\n",
       "      <td>24.7</td>\n",
       "    </tr>\n",
       "    <tr>\n",
       "      <th>4</th>\n",
       "      <td>100760</td>\n",
       "      <td>2011</td>\n",
       "      <td>M</td>\n",
       "      <td>W</td>\n",
       "      <td>2y all</td>\n",
       "      <td>162.0</td>\n",
       "      <td>NaN</td>\n",
       "      <td>35.0</td>\n",
       "      <td>NaN</td>\n",
       "      <td>21.6</td>\n",
       "    </tr>\n",
       "  </tbody>\n",
       "</table>\n",
       "</div>"
      ],
      "text/plain": [
       "   unitid  year gender race  cohort  grad_cohort  grad_100  grad_150  \\\n",
       "0  100760  2011      B    X  2y all        446.0      73.0     105.0   \n",
       "1  100760  2011      M    X  2y all        185.0       NaN      40.0   \n",
       "2  100760  2011      F    X  2y all        261.0       NaN      65.0   \n",
       "3  100760  2011      B    W  2y all        348.0       NaN      86.0   \n",
       "4  100760  2011      M    W  2y all        162.0       NaN      35.0   \n",
       "\n",
       "   grad_100_rate  grad_150_rate  \n",
       "0           16.4           23.5  \n",
       "1            NaN           21.6  \n",
       "2            NaN           24.9  \n",
       "3            NaN           24.7  \n",
       "4            NaN           21.6  "
      ]
     },
     "execution_count": 8,
     "metadata": {},
     "output_type": "execute_result"
    }
   ],
   "source": [
    "# Possible Solution\n",
    "\n",
    "cc_institution_grads.head()"
   ]
  },
  {
   "cell_type": "markdown",
   "metadata": {
    "id": "MakFWz-58hqT"
   },
   "source": [
    "# Checking Data Types\n",
    "\n",
    "After we load in the data, and get a quick view of it, we should check the data types present in the dataframe. To do this we use the dtypes element that comes within Pandas. "
   ]
  },
  {
   "cell_type": "code",
   "execution_count": 9,
   "metadata": {
    "colab": {
     "base_uri": "https://localhost:8080/"
    },
    "executionInfo": {
     "elapsed": 248,
     "status": "ok",
     "timestamp": 1631040016200,
     "user": {
      "displayName": "John Kirollos",
      "photoUrl": "https://lh3.googleusercontent.com/a-/AOh14GhXlpWNgQGE88mhrSgUJB6Dx3RLSlEhHifAZALdwg=s64",
      "userId": "10752091771659842492"
     },
     "user_tz": 240
    },
    "id": "UH_4mvXE8izq",
    "outputId": "3502f72d-d1bf-4ff4-9391-e4356639cd32"
   },
   "outputs": [
    {
     "data": {
      "text/plain": [
       "unitid               int64\n",
       "chronname           object\n",
       "city                object\n",
       "state               object\n",
       "level               object\n",
       "                    ...   \n",
       "state_sector_ct      int64\n",
       "carnegie_ct          int64\n",
       "counted_pct         object\n",
       "nicknames           object\n",
       "cohort_size        float64\n",
       "Length: 62, dtype: object"
      ]
     },
     "execution_count": 9,
     "metadata": {},
     "output_type": "execute_result"
    }
   ],
   "source": [
    "# Checking data types. \n",
    "cc_institution_details.dtypes"
   ]
  },
  {
   "cell_type": "markdown",
   "metadata": {
    "id": "Rml5vXd18lRy"
   },
   "source": [
    "### Try it on your own!\n",
    "\n",
    "Try to identify the data types in our second dataframe **cc_institution_grads**."
   ]
  },
  {
   "cell_type": "code",
   "execution_count": 10,
   "metadata": {
    "id": "UwpZOlyuDiZX"
   },
   "outputs": [],
   "source": [
    "# Please enter your solution here."
   ]
  },
  {
   "cell_type": "code",
   "execution_count": 11,
   "metadata": {
    "cellView": "form",
    "id": "EPRcz9e18icR"
   },
   "outputs": [
    {
     "data": {
      "text/plain": [
       "unitid             int64\n",
       "year               int64\n",
       "gender            object\n",
       "race              object\n",
       "cohort            object\n",
       "grad_cohort      float64\n",
       "grad_100         float64\n",
       "grad_150         float64\n",
       "grad_100_rate    float64\n",
       "grad_150_rate    float64\n",
       "dtype: object"
      ]
     },
     "execution_count": 11,
     "metadata": {},
     "output_type": "execute_result"
    }
   ],
   "source": [
    "# Possible Solution\n",
    "\n",
    "cc_institution_grads.dtypes"
   ]
  },
  {
   "cell_type": "markdown",
   "metadata": {
    "id": "gbxC4l0NTdFo"
   },
   "source": [
    "# Selecting Columns Of Interest\n",
    "\n",
    "It is good practice to narrow down your dataset according to the needs of your project. This keeps outside information more safely maintained and is a more ethical approach to data science. First, we will use **columns** to see the columns in the dataset. From here, we can then select certain columns that we will use in our analyses. "
   ]
  },
  {
   "cell_type": "code",
   "execution_count": 12,
   "metadata": {
    "colab": {
     "base_uri": "https://localhost:8080/"
    },
    "executionInfo": {
     "elapsed": 206,
     "status": "ok",
     "timestamp": 1630963301013,
     "user": {
      "displayName": "Jonathan Schlosser",
      "photoUrl": "",
      "userId": "03711695131991659126"
     },
     "user_tz": 240
    },
    "id": "184rCtH_UCR9",
    "outputId": "e4a6822b-2a1d-42e7-efcc-a60e66de47d9"
   },
   "outputs": [
    {
     "data": {
      "text/plain": [
       "Index(['unitid', 'chronname', 'city', 'state', 'level', 'control', 'basic',\n",
       "       'hbcu', 'flagship', 'long_x', 'lat_y', 'site', 'student_count',\n",
       "       'awards_per_value', 'awards_per_state_value', 'awards_per_natl_value',\n",
       "       'exp_award_value', 'exp_award_state_value', 'exp_award_natl_value',\n",
       "       'exp_award_percentile', 'ft_pct', 'fte_value', 'fte_percentile',\n",
       "       'med_sat_value', 'med_sat_percentile', 'aid_value', 'aid_percentile',\n",
       "       'endow_value', 'endow_percentile', 'grad_100_value',\n",
       "       'grad_100_percentile', 'grad_150_value', 'grad_150_percentile',\n",
       "       'pell_value', 'pell_percentile', 'retain_value', 'retain_percentile',\n",
       "       'ft_fac_value', 'ft_fac_percentile', 'vsa_year',\n",
       "       'vsa_grad_after4_first', 'vsa_grad_elsewhere_after4_first',\n",
       "       'vsa_enroll_after4_first', 'vsa_enroll_elsewhere_after4_first',\n",
       "       'vsa_grad_after6_first', 'vsa_grad_elsewhere_after6_first',\n",
       "       'vsa_enroll_after6_first', 'vsa_enroll_elsewhere_after6_first',\n",
       "       'vsa_grad_after4_transfer', 'vsa_grad_elsewhere_after4_transfer',\n",
       "       'vsa_enroll_after4_transfer', 'vsa_enroll_elsewhere_after4_transfer',\n",
       "       'vsa_grad_after6_transfer', 'vsa_grad_elsewhere_after6_transfer',\n",
       "       'vsa_enroll_after6_transfer', 'vsa_enroll_elsewhere_after6_transfer',\n",
       "       'similar', 'state_sector_ct', 'carnegie_ct', 'counted_pct', 'nicknames',\n",
       "       'cohort_size'],\n",
       "      dtype='object')"
      ]
     },
     "execution_count": 12,
     "metadata": {},
     "output_type": "execute_result"
    }
   ],
   "source": [
    "# Viewing the columns. \n",
    "cc_institution_details.columns"
   ]
  },
  {
   "cell_type": "code",
   "execution_count": 13,
   "metadata": {
    "id": "a-XFGRZqTeWp"
   },
   "outputs": [],
   "source": [
    "# Selecting Columns of Interest.\n",
    "cc_institution_details = cc_institution_details[['unitid', 'chronname', 'city', 'state', 'level', 'hbcu',\n",
    "                                  'long_x', 'lat_y', 'site', 'student_count', 'med_sat_value', \n",
    "                                  'aid_value', 'endow_value']]"
   ]
  },
  {
   "cell_type": "code",
   "execution_count": 14,
   "metadata": {
    "colab": {
     "base_uri": "https://localhost:8080/"
    },
    "executionInfo": {
     "elapsed": 4,
     "status": "ok",
     "timestamp": 1630963304425,
     "user": {
      "displayName": "Jonathan Schlosser",
      "photoUrl": "",
      "userId": "03711695131991659126"
     },
     "user_tz": 240
    },
    "id": "umO2jCRlUvCH",
    "outputId": "98b1a8aa-ce00-46fa-ba2d-05f9ffe1e2bd"
   },
   "outputs": [
    {
     "data": {
      "text/plain": [
       "Index(['unitid', 'year', 'gender', 'race', 'cohort', 'grad_cohort', 'grad_100',\n",
       "       'grad_150', 'grad_100_rate', 'grad_150_rate'],\n",
       "      dtype='object')"
      ]
     },
     "execution_count": 14,
     "metadata": {},
     "output_type": "execute_result"
    }
   ],
   "source": [
    "# Checking columns of our second dataset.\n",
    "cc_institution_grads.columns"
   ]
  },
  {
   "cell_type": "markdown",
   "metadata": {
    "id": "9LS-0s1CWbJq"
   },
   "source": [
    "# Checking for Nulls\n",
    "\n",
    "Now that we have our columns of interest, we can check for missing data. One way to do this is to use the **isnull()** function and the **sum()** function built within Pandas. This will give us a list of missing values for each column in our dataset. "
   ]
  },
  {
   "cell_type": "code",
   "execution_count": 15,
   "metadata": {
    "colab": {
     "base_uri": "https://localhost:8080/"
    },
    "executionInfo": {
     "elapsed": 312,
     "status": "ok",
     "timestamp": 1631040084267,
     "user": {
      "displayName": "John Kirollos",
      "photoUrl": "https://lh3.googleusercontent.com/a-/AOh14GhXlpWNgQGE88mhrSgUJB6Dx3RLSlEhHifAZALdwg=s64",
      "userId": "10752091771659842492"
     },
     "user_tz": 240
    },
    "id": "WhK_yz_hWbqM",
    "outputId": "84f1d8d2-a27f-46d6-a7ea-142c5d8032fa"
   },
   "outputs": [
    {
     "data": {
      "text/plain": [
       "unitid              0\n",
       "chronname           0\n",
       "city                0\n",
       "state               0\n",
       "level               0\n",
       "hbcu             3704\n",
       "long_x              0\n",
       "lat_y               0\n",
       "site               19\n",
       "student_count       0\n",
       "med_sat_value    2461\n",
       "aid_value           1\n",
       "endow_value      1475\n",
       "dtype: int64"
      ]
     },
     "execution_count": 15,
     "metadata": {},
     "output_type": "execute_result"
    }
   ],
   "source": [
    "cc_institution_details.isnull().sum()"
   ]
  },
  {
   "cell_type": "markdown",
   "metadata": {
    "id": "okeCKN-HYdRN"
   },
   "source": [
    "### Try it on your own!\n",
    "\n",
    "Try to identify the number of nulls in our second dataframe **cc_institution_grads**."
   ]
  },
  {
   "cell_type": "code",
   "execution_count": null,
   "metadata": {
    "id": "K6GbWPe4m0Zg"
   },
   "outputs": [],
   "source": [
    "# Please enter your solution here. "
   ]
  },
  {
   "cell_type": "code",
   "execution_count": 16,
   "metadata": {
    "cellView": "form",
    "id": "-mo4Sx1GWa2L"
   },
   "outputs": [
    {
     "data": {
      "text/plain": [
       "unitid                0\n",
       "year                  0\n",
       "gender                0\n",
       "race                  0\n",
       "cohort                0\n",
       "grad_cohort      412722\n",
       "grad_100         892033\n",
       "grad_150         412722\n",
       "grad_100_rate    970041\n",
       "grad_150_rate    607233\n",
       "dtype: int64"
      ]
     },
     "execution_count": 16,
     "metadata": {},
     "output_type": "execute_result"
    }
   ],
   "source": [
    "# Possible Solution\n",
    "\n",
    "cc_institution_grads.isnull().sum()"
   ]
  },
  {
   "cell_type": "markdown",
   "metadata": {
    "id": "bqgSGoAIcpE8"
   },
   "source": [
    "# Dropping Nulls\n",
    "\n",
    "Now that we have checked our data, we can see that there are missing values within our first dataset, so we should probably clean that up. For this case, we are just going to remove any null values. We want to remove the entire observation, or row, so that they do not affect our analyses later on. There are a number of other ways to address missing data including interpolation and extrapolation. \n",
    "\n",
    "To make sure that we are only removing data that needs to be removed, and that are not removing data will-nilly, we will want to identify particular columns. This prevents us from removing too much data. For example, we may not want to remove data just because it is missing an HBCU status or a website url, but we would want to remove observations if they are missing a student count or a median SAT value. So, we select the columns to check to make sure we are not dropping things unecessarily. \n",
    "\n",
    "Lastly, we also want to use the **inplace** parameter to make changes to our existing dataset. The default value for this is False. If we have this set to false, we need to assign the returned dataframe to a value otherwise the updated version would not be preserved. "
   ]
  },
  {
   "cell_type": "code",
   "execution_count": 17,
   "metadata": {
    "colab": {
     "base_uri": "https://localhost:8080/"
    },
    "executionInfo": {
     "elapsed": 225,
     "status": "ok",
     "timestamp": 1631040097499,
     "user": {
      "displayName": "John Kirollos",
      "photoUrl": "https://lh3.googleusercontent.com/a-/AOh14GhXlpWNgQGE88mhrSgUJB6Dx3RLSlEhHifAZALdwg=s64",
      "userId": "10752091771659842492"
     },
     "user_tz": 240
    },
    "id": "50EwMeO669uv",
    "outputId": "04d5545a-db51-4f70-bb4a-f71887d6141a"
   },
   "outputs": [],
   "source": [
    "cc_institution_details.dropna(subset=['student_count', 'med_sat_value', 'aid_value', 'endow_value'], inplace=True)"
   ]
  },
  {
   "cell_type": "markdown",
   "metadata": {
    "id": "9fi7M1cdVZ9d"
   },
   "source": [
    "# Joining Datasets\n",
    "\n",
    "Now that we have our datasets cleaned up, we can work to merge them together. To do this, we use the **merge()** function that is built within Pandas. We specify the data to be joined, the type of join that we will be doing, and the column(s) that match the two dataframes. Including all of this information is generally considered good practice. \n",
    "\n",
    "Now, there are a number of different joins that we could do. The chart below shows them. For this instance, we want to preserve all of the schools, and thier respective information, in our dataset, rather than preserving all of the data on graduates. Therefore, we will be doing a left join, attaching our grads information onto our details information. \n",
    "\n",
    "![](https://i1.wp.com/datascienceexamples.com/wp-content/uploads/2019/12/join_types.png?fit=840%2C788&ssl=1)"
   ]
  },
  {
   "cell_type": "code",
   "execution_count": 18,
   "metadata": {
    "id": "uSpP2zPrVZaU"
   },
   "outputs": [],
   "source": [
    "combined_df = cc_institution_details.merge(cc_institution_grads, how='left', on='unitid')"
   ]
  },
  {
   "cell_type": "code",
   "execution_count": 19,
   "metadata": {
    "colab": {
     "base_uri": "https://localhost:8080/",
     "height": 486
    },
    "executionInfo": {
     "elapsed": 18,
     "status": "ok",
     "timestamp": 1631040187002,
     "user": {
      "displayName": "John Kirollos",
      "photoUrl": "https://lh3.googleusercontent.com/a-/AOh14GhXlpWNgQGE88mhrSgUJB6Dx3RLSlEhHifAZALdwg=s64",
      "userId": "10752091771659842492"
     },
     "user_tz": 240
    },
    "id": "J29spuFhVZIa",
    "outputId": "f6a92c0d-c97c-48f8-c96e-c4809e8f246d"
   },
   "outputs": [
    {
     "data": {
      "text/html": [
       "<div>\n",
       "<style scoped>\n",
       "    .dataframe tbody tr th:only-of-type {\n",
       "        vertical-align: middle;\n",
       "    }\n",
       "\n",
       "    .dataframe tbody tr th {\n",
       "        vertical-align: top;\n",
       "    }\n",
       "\n",
       "    .dataframe thead th {\n",
       "        text-align: right;\n",
       "    }\n",
       "</style>\n",
       "<table border=\"1\" class=\"dataframe\">\n",
       "  <thead>\n",
       "    <tr style=\"text-align: right;\">\n",
       "      <th></th>\n",
       "      <th>unitid</th>\n",
       "      <th>chronname</th>\n",
       "      <th>city</th>\n",
       "      <th>state</th>\n",
       "      <th>level</th>\n",
       "      <th>hbcu</th>\n",
       "      <th>long_x</th>\n",
       "      <th>lat_y</th>\n",
       "      <th>site</th>\n",
       "      <th>student_count</th>\n",
       "      <th>...</th>\n",
       "      <th>endow_value</th>\n",
       "      <th>year</th>\n",
       "      <th>gender</th>\n",
       "      <th>race</th>\n",
       "      <th>cohort</th>\n",
       "      <th>grad_cohort</th>\n",
       "      <th>grad_100</th>\n",
       "      <th>grad_150</th>\n",
       "      <th>grad_100_rate</th>\n",
       "      <th>grad_150_rate</th>\n",
       "    </tr>\n",
       "  </thead>\n",
       "  <tbody>\n",
       "    <tr>\n",
       "      <th>0</th>\n",
       "      <td>100663</td>\n",
       "      <td>University of Alabama at Birmingham</td>\n",
       "      <td>Birmingham</td>\n",
       "      <td>Alabama</td>\n",
       "      <td>4-year</td>\n",
       "      <td>NaN</td>\n",
       "      <td>-86.80917</td>\n",
       "      <td>33.50223</td>\n",
       "      <td>www.uab.edu</td>\n",
       "      <td>11502</td>\n",
       "      <td>...</td>\n",
       "      <td>24136.0</td>\n",
       "      <td>2011</td>\n",
       "      <td>B</td>\n",
       "      <td>X</td>\n",
       "      <td>4y other</td>\n",
       "      <td>1.0</td>\n",
       "      <td>NaN</td>\n",
       "      <td>1.0</td>\n",
       "      <td>NaN</td>\n",
       "      <td>100.0</td>\n",
       "    </tr>\n",
       "    <tr>\n",
       "      <th>1</th>\n",
       "      <td>100663</td>\n",
       "      <td>University of Alabama at Birmingham</td>\n",
       "      <td>Birmingham</td>\n",
       "      <td>Alabama</td>\n",
       "      <td>4-year</td>\n",
       "      <td>NaN</td>\n",
       "      <td>-86.80917</td>\n",
       "      <td>33.50223</td>\n",
       "      <td>www.uab.edu</td>\n",
       "      <td>11502</td>\n",
       "      <td>...</td>\n",
       "      <td>24136.0</td>\n",
       "      <td>2011</td>\n",
       "      <td>M</td>\n",
       "      <td>X</td>\n",
       "      <td>4y other</td>\n",
       "      <td>0.0</td>\n",
       "      <td>NaN</td>\n",
       "      <td>0.0</td>\n",
       "      <td>NaN</td>\n",
       "      <td>NaN</td>\n",
       "    </tr>\n",
       "    <tr>\n",
       "      <th>2</th>\n",
       "      <td>100663</td>\n",
       "      <td>University of Alabama at Birmingham</td>\n",
       "      <td>Birmingham</td>\n",
       "      <td>Alabama</td>\n",
       "      <td>4-year</td>\n",
       "      <td>NaN</td>\n",
       "      <td>-86.80917</td>\n",
       "      <td>33.50223</td>\n",
       "      <td>www.uab.edu</td>\n",
       "      <td>11502</td>\n",
       "      <td>...</td>\n",
       "      <td>24136.0</td>\n",
       "      <td>2011</td>\n",
       "      <td>F</td>\n",
       "      <td>X</td>\n",
       "      <td>4y other</td>\n",
       "      <td>1.0</td>\n",
       "      <td>NaN</td>\n",
       "      <td>1.0</td>\n",
       "      <td>NaN</td>\n",
       "      <td>100.0</td>\n",
       "    </tr>\n",
       "    <tr>\n",
       "      <th>3</th>\n",
       "      <td>100663</td>\n",
       "      <td>University of Alabama at Birmingham</td>\n",
       "      <td>Birmingham</td>\n",
       "      <td>Alabama</td>\n",
       "      <td>4-year</td>\n",
       "      <td>NaN</td>\n",
       "      <td>-86.80917</td>\n",
       "      <td>33.50223</td>\n",
       "      <td>www.uab.edu</td>\n",
       "      <td>11502</td>\n",
       "      <td>...</td>\n",
       "      <td>24136.0</td>\n",
       "      <td>2011</td>\n",
       "      <td>B</td>\n",
       "      <td>W</td>\n",
       "      <td>4y other</td>\n",
       "      <td>1.0</td>\n",
       "      <td>NaN</td>\n",
       "      <td>1.0</td>\n",
       "      <td>NaN</td>\n",
       "      <td>100.0</td>\n",
       "    </tr>\n",
       "    <tr>\n",
       "      <th>4</th>\n",
       "      <td>100663</td>\n",
       "      <td>University of Alabama at Birmingham</td>\n",
       "      <td>Birmingham</td>\n",
       "      <td>Alabama</td>\n",
       "      <td>4-year</td>\n",
       "      <td>NaN</td>\n",
       "      <td>-86.80917</td>\n",
       "      <td>33.50223</td>\n",
       "      <td>www.uab.edu</td>\n",
       "      <td>11502</td>\n",
       "      <td>...</td>\n",
       "      <td>24136.0</td>\n",
       "      <td>2011</td>\n",
       "      <td>M</td>\n",
       "      <td>W</td>\n",
       "      <td>4y other</td>\n",
       "      <td>0.0</td>\n",
       "      <td>NaN</td>\n",
       "      <td>0.0</td>\n",
       "      <td>NaN</td>\n",
       "      <td>NaN</td>\n",
       "    </tr>\n",
       "  </tbody>\n",
       "</table>\n",
       "<p>5 rows × 22 columns</p>\n",
       "</div>"
      ],
      "text/plain": [
       "   unitid                            chronname        city    state   level  \\\n",
       "0  100663  University of Alabama at Birmingham  Birmingham  Alabama  4-year   \n",
       "1  100663  University of Alabama at Birmingham  Birmingham  Alabama  4-year   \n",
       "2  100663  University of Alabama at Birmingham  Birmingham  Alabama  4-year   \n",
       "3  100663  University of Alabama at Birmingham  Birmingham  Alabama  4-year   \n",
       "4  100663  University of Alabama at Birmingham  Birmingham  Alabama  4-year   \n",
       "\n",
       "  hbcu    long_x     lat_y         site  student_count  ...  endow_value  \\\n",
       "0  NaN -86.80917  33.50223  www.uab.edu          11502  ...      24136.0   \n",
       "1  NaN -86.80917  33.50223  www.uab.edu          11502  ...      24136.0   \n",
       "2  NaN -86.80917  33.50223  www.uab.edu          11502  ...      24136.0   \n",
       "3  NaN -86.80917  33.50223  www.uab.edu          11502  ...      24136.0   \n",
       "4  NaN -86.80917  33.50223  www.uab.edu          11502  ...      24136.0   \n",
       "\n",
       "   year  gender  race    cohort grad_cohort grad_100  grad_150  grad_100_rate  \\\n",
       "0  2011       B     X  4y other         1.0      NaN       1.0            NaN   \n",
       "1  2011       M     X  4y other         0.0      NaN       0.0            NaN   \n",
       "2  2011       F     X  4y other         1.0      NaN       1.0            NaN   \n",
       "3  2011       B     W  4y other         1.0      NaN       1.0            NaN   \n",
       "4  2011       M     W  4y other         0.0      NaN       0.0            NaN   \n",
       "\n",
       "   grad_150_rate  \n",
       "0          100.0  \n",
       "1            NaN  \n",
       "2          100.0  \n",
       "3          100.0  \n",
       "4            NaN  \n",
       "\n",
       "[5 rows x 22 columns]"
      ]
     },
     "execution_count": 19,
     "metadata": {},
     "output_type": "execute_result"
    }
   ],
   "source": [
    "combined_df.head()"
   ]
  },
  {
   "cell_type": "markdown",
   "metadata": {
    "id": "3czQzIOWAbgG"
   },
   "source": [
    "# Min, Max, Median\n",
    "\n",
    "Now that we have our data combined, we can begin looking at some descriptive statistics and getting a feel for our dataset. First, lets look at the min, max, and median using the functions **min()**, **max()**, and **median()**. These are super simple statistics but are very often used, so its good to be familiar with these functions and their use. "
   ]
  },
  {
   "cell_type": "code",
   "execution_count": 20,
   "metadata": {
    "colab": {
     "base_uri": "https://localhost:8080/"
    },
    "executionInfo": {
     "elapsed": 219,
     "status": "ok",
     "timestamp": 1630963319777,
     "user": {
      "displayName": "Jonathan Schlosser",
      "photoUrl": "",
      "userId": "03711695131991659126"
     },
     "user_tz": 240
    },
    "id": "DilnLeq6lBSG",
    "outputId": "21cd947e-20e3-4ef0-e807-72246a3053ea"
   },
   "outputs": [
    {
     "name": "stdout",
     "output_type": "stream",
     "text": [
      "Min: 85\n",
      "Max: 51333\n",
      "Median: 2653.0\n"
     ]
    }
   ],
   "source": [
    "min = combined_df['student_count'].min()\n",
    "print(\"Min:\", min)\n",
    "\n",
    "max = combined_df['student_count'].max()\n",
    "print(\"Max:\", max)\n",
    "\n",
    "median = combined_df['student_count'].median()\n",
    "print(\"Median:\", median)"
   ]
  },
  {
   "cell_type": "code",
   "execution_count": 21,
   "metadata": {
    "colab": {
     "base_uri": "https://localhost:8080/"
    },
    "executionInfo": {
     "elapsed": 207,
     "status": "ok",
     "timestamp": 1630963321593,
     "user": {
      "displayName": "Jonathan Schlosser",
      "photoUrl": "",
      "userId": "03711695131991659126"
     },
     "user_tz": 240
    },
    "id": "68hVjHYKlqAI",
    "outputId": "3280a60c-0f45-4317-fa65-de2e3fdb8ce3"
   },
   "outputs": [
    {
     "name": "stdout",
     "output_type": "stream",
     "text": [
      "Min: 666.0\n",
      "Max: 1534.0\n",
      "Median: 1046.0\n"
     ]
    }
   ],
   "source": [
    "min = combined_df['med_sat_value'].min()\n",
    "print(\"Min:\", min)\n",
    "\n",
    "max = combined_df['med_sat_value'].max()\n",
    "print(\"Max:\", max)\n",
    "\n",
    "median = combined_df['med_sat_value'].median()\n",
    "print(\"Median:\", median)"
   ]
  },
  {
   "cell_type": "markdown",
   "metadata": {
    "id": "ErMcapVTlxiA"
   },
   "source": [
    "### Try it on your own!\n",
    "\n",
    "Try to identify the min, max, and median for the columns **aid_value** and **endow_value**."
   ]
  },
  {
   "cell_type": "code",
   "execution_count": null,
   "metadata": {
    "id": "4yNiureQBPtw"
   },
   "outputs": [],
   "source": [
    "# Please enter your solution here."
   ]
  },
  {
   "cell_type": "code",
   "execution_count": 22,
   "metadata": {
    "cellView": "form",
    "id": "aTKkIDwUAbKu"
   },
   "outputs": [
    {
     "name": "stdout",
     "output_type": "stream",
     "text": [
      "Aid Min: 1184.0\n",
      "Aid Max: 41580.0\n",
      "Aid Median: 11550.0\n",
      "Endowment Min: 8.0\n",
      "Endowment Max: 2505435.0\n",
      "Endowment Median: 11549.0\n"
     ]
    }
   ],
   "source": [
    "# Possible Solution\n",
    "\n",
    "aid_min = combined_df['aid_value'].min()\n",
    "print(\"Aid Min:\", aid_min)\n",
    "\n",
    "aid_max = combined_df['aid_value'].max()\n",
    "print(\"Aid Max:\", aid_max)\n",
    "\n",
    "aid_median = combined_df['aid_value'].median()\n",
    "print(\"Aid Median:\", aid_median)\n",
    "\n",
    "endow_min = combined_df['endow_value'].min()\n",
    "print(\"Endowment Min:\", endow_min)\n",
    "\n",
    "endow_max = combined_df['endow_value'].max()\n",
    "print(\"Endowment Max:\", endow_max)\n",
    "\n",
    "endow_median = combined_df['endow_value'].median()\n",
    "print(\"Endowment Median:\", endow_median)"
   ]
  },
  {
   "cell_type": "markdown",
   "metadata": {
    "id": "E-L-FMtHBeCU"
   },
   "source": [
    "# Sum and Average\n",
    "\n",
    "Next, we can look at the sum and average using the functions **sum()** and **mean()**. Again, these are incredibly useful functions because they are very commonly employed. "
   ]
  },
  {
   "cell_type": "code",
   "execution_count": 23,
   "metadata": {
    "colab": {
     "base_uri": "https://localhost:8080/"
    },
    "executionInfo": {
     "elapsed": 220,
     "status": "ok",
     "timestamp": 1630963325960,
     "user": {
      "displayName": "Jonathan Schlosser",
      "photoUrl": "",
      "userId": "03711695131991659126"
     },
     "user_tz": 240
    },
    "id": "MrSJOQaHBsDy",
    "outputId": "9ec723db-5e60-4b42-e1fc-32cadfe17bb9"
   },
   "outputs": [
    {
     "name": "stdout",
     "output_type": "stream",
     "text": [
      "Sum: 3219472602\n",
      "Mean: 5805.244693281402\n"
     ]
    }
   ],
   "source": [
    "sum = combined_df['student_count'].sum()\n",
    "print(\"Sum:\", sum)\n",
    "\n",
    "average = combined_df['student_count'].mean()\n",
    "print(\"Mean:\", average)"
   ]
  },
  {
   "cell_type": "code",
   "execution_count": 24,
   "metadata": {
    "colab": {
     "base_uri": "https://localhost:8080/"
    },
    "executionInfo": {
     "elapsed": 7,
     "status": "ok",
     "timestamp": 1630963328219,
     "user": {
      "displayName": "Jonathan Schlosser",
      "photoUrl": "",
      "userId": "03711695131991659126"
     },
     "user_tz": 240
    },
    "id": "7oEm46-mnRGj",
    "outputId": "2c9495e6-d1e3-48a2-dee5-dd929e2095f9"
   },
   "outputs": [
    {
     "name": "stdout",
     "output_type": "stream",
     "text": [
      "Sum: 590040180.0\n",
      "Mean: 1063.9406037000974\n"
     ]
    }
   ],
   "source": [
    "sum = combined_df['med_sat_value'].sum()\n",
    "print(\"Sum:\", sum)\n",
    "\n",
    "average = combined_df['med_sat_value'].mean()\n",
    "print(\"Mean:\", average)"
   ]
  },
  {
   "cell_type": "markdown",
   "metadata": {
    "id": "76BY3c4zBvk9"
   },
   "source": [
    "### Try it on your own!\n",
    "\n",
    "Try to identify the sum and average for the columns **aid_value** and **endow_value**."
   ]
  },
  {
   "cell_type": "code",
   "execution_count": 25,
   "metadata": {
    "id": "v1JuqyrFBuzB"
   },
   "outputs": [],
   "source": [
    "# Please enter your solution here."
   ]
  },
  {
   "cell_type": "code",
   "execution_count": 26,
   "metadata": {
    "cellView": "form",
    "id": "HmKK45AiB3Q4"
   },
   "outputs": [
    {
     "name": "stdout",
     "output_type": "stream",
     "text": [
      "Aid Sum: 7186868694.0\n",
      "Aid Mean: 12959.119863680624\n",
      "Endowment Sum: 27506638260.0\n",
      "Endowment Mean: 49599.044790652384\n"
     ]
    }
   ],
   "source": [
    "# Possible Solution\n",
    "\n",
    "aid_sum = combined_df['aid_value'].sum()\n",
    "print(\"Aid Sum:\", aid_sum)\n",
    "\n",
    "aid_average = combined_df['aid_value'].mean()\n",
    "print(\"Aid Mean:\", aid_average)\n",
    "\n",
    "endow_sum = combined_df['endow_value'].sum()\n",
    "print(\"Endowment Sum:\", endow_sum)\n",
    "\n",
    "endow_average = combined_df['endow_value'].mean()\n",
    "print(\"Endowment Mean:\", endow_average)"
   ]
  },
  {
   "cell_type": "markdown",
   "metadata": {
    "id": "piuJ2c34CGJF"
   },
   "source": [
    "# Standard Deviation and Quantiles\n",
    "\n",
    "\n",
    "Lastly, we can take a look at the standard deviation and some initial quantile values. To do this we use the function **std()** to find the standard deviation, and the funtion **quantile()** to identify a quantile amount. "
   ]
  },
  {
   "cell_type": "code",
   "execution_count": 27,
   "metadata": {
    "colab": {
     "base_uri": "https://localhost:8080/"
    },
    "executionInfo": {
     "elapsed": 4,
     "status": "ok",
     "timestamp": 1630963331667,
     "user": {
      "displayName": "Jonathan Schlosser",
      "photoUrl": "",
      "userId": "03711695131991659126"
     },
     "user_tz": 240
    },
    "id": "u__5g6owtwRB",
    "outputId": "2bc09daf-f5dd-43ed-9172-51397408a03f"
   },
   "outputs": [
    {
     "name": "stdout",
     "output_type": "stream",
     "text": [
      "Standard Deviation: 7436.66523855245\n",
      ".25 Quantile: 1371.0\n",
      ".75 Quantile: 6826.0\n"
     ]
    }
   ],
   "source": [
    "std = combined_df['student_count'].std()\n",
    "print(\"Standard Deviation:\", std)\n",
    "\n",
    "quant25 = combined_df['student_count'].quantile(.25)\n",
    "print(\".25 Quantile:\", quant25)\n",
    "\n",
    "quant75= combined_df['student_count'].quantile(.75)\n",
    "print(\".75 Quantile:\", quant75)"
   ]
  },
  {
   "cell_type": "code",
   "execution_count": 28,
   "metadata": {
    "colab": {
     "base_uri": "https://localhost:8080/"
    },
    "executionInfo": {
     "elapsed": 203,
     "status": "ok",
     "timestamp": 1630963335140,
     "user": {
      "displayName": "Jonathan Schlosser",
      "photoUrl": "",
      "userId": "03711695131991659126"
     },
     "user_tz": 240
    },
    "id": "AWberL6TuUg1",
    "outputId": "8a8a0093-cd32-4a9b-f05e-ef3fa2a35c74"
   },
   "outputs": [
    {
     "name": "stdout",
     "output_type": "stream",
     "text": [
      "Standard Deviation: 132.40267444155\n",
      ".25 Quantile: 979.0\n",
      ".75 Quantile: 1129.0\n"
     ]
    }
   ],
   "source": [
    "std = combined_df['med_sat_value'].std()\n",
    "print(\"Standard Deviation:\", std)\n",
    "\n",
    "quant25 = combined_df['med_sat_value'].quantile(.25)\n",
    "print(\".25 Quantile:\", quant25)\n",
    "\n",
    "quant75= combined_df['med_sat_value'].quantile(.75)\n",
    "print(\".75 Quantile:\", quant75)"
   ]
  },
  {
   "cell_type": "markdown",
   "metadata": {
    "id": "kcYTvEE3uey5"
   },
   "source": [
    "### Try it on your own!\n",
    "\n",
    "Try to identify the standard deviation, the 25th Quantile, and the 75th Quantile for the columns **aid_value** and **endow_value**."
   ]
  },
  {
   "cell_type": "code",
   "execution_count": 29,
   "metadata": {
    "id": "HRZH0YOjufN9"
   },
   "outputs": [],
   "source": [
    "# Please enter your solution here."
   ]
  },
  {
   "cell_type": "code",
   "execution_count": 30,
   "metadata": {
    "cellView": "form",
    "id": "FBCt7KwruuWU"
   },
   "outputs": [
    {
     "name": "stdout",
     "output_type": "stream",
     "text": [
      "Aid Standard Deviation: 7521.400064613081\n",
      "Aid .25 Quantile: 6810.0\n",
      "Aid .75 Quantile: 16990.0\n",
      "Endowment Standard Deviation: 157317.8131041594\n",
      "Endowment .25 Quantile: 4392.0\n",
      "Endowment .75 Quantile: 32802.0\n"
     ]
    }
   ],
   "source": [
    "# Possible Solution\n",
    "\n",
    "aid_std = combined_df['aid_value'].std()\n",
    "print(\"Aid Standard Deviation:\", aid_std)\n",
    "\n",
    "aid_quant25 = combined_df['aid_value'].quantile(.25)\n",
    "print(\"Aid .25 Quantile:\", aid_quant25)\n",
    "\n",
    "aid_quant75= combined_df['aid_value'].quantile(.75)\n",
    "print(\"Aid .75 Quantile:\", aid_quant75)\n",
    "\n",
    "endow_std = combined_df['endow_value'].std()\n",
    "print(\"Endowment Standard Deviation:\", endow_std)\n",
    "\n",
    "endow_quant25 = combined_df['endow_value'].quantile(.25)\n",
    "print(\"Endowment .25 Quantile:\", endow_quant25)\n",
    "\n",
    "endow_quant75= combined_df['endow_value'].quantile(.75)\n",
    "print(\"Endowment .75 Quantile:\", endow_quant75)"
   ]
  },
  {
   "cell_type": "markdown",
   "metadata": {
    "id": "B63_kP9QcMTu"
   },
   "source": [
    "# Basic Statistics\n",
    "\n",
    "Now that we have gone through all of these initial descriptive statistics, we can highlight an easier way to get all of this information. There is a handy function within Pandas called **describe()** that gets basic statistics for all of the numerical columns in our dataframe. But, if we want to include all of the columns, and not just the numeric ones, we need to adjust the code a little bit by specifying **include='all'**. "
   ]
  },
  {
   "cell_type": "code",
   "execution_count": 31,
   "metadata": {
    "colab": {
     "base_uri": "https://localhost:8080/",
     "height": 334
    },
    "executionInfo": {
     "elapsed": 5,
     "status": "ok",
     "timestamp": 1630963339958,
     "user": {
      "displayName": "Jonathan Schlosser",
      "photoUrl": "",
      "userId": "03711695131991659126"
     },
     "user_tz": 240
    },
    "id": "4aIK0de8a3FM",
    "outputId": "1ef6109a-6f96-4132-ee4e-f9de840f955b"
   },
   "outputs": [
    {
     "data": {
      "text/html": [
       "<div>\n",
       "<style scoped>\n",
       "    .dataframe tbody tr th:only-of-type {\n",
       "        vertical-align: middle;\n",
       "    }\n",
       "\n",
       "    .dataframe tbody tr th {\n",
       "        vertical-align: top;\n",
       "    }\n",
       "\n",
       "    .dataframe thead th {\n",
       "        text-align: right;\n",
       "    }\n",
       "</style>\n",
       "<table border=\"1\" class=\"dataframe\">\n",
       "  <thead>\n",
       "    <tr style=\"text-align: right;\">\n",
       "      <th></th>\n",
       "      <th>unitid</th>\n",
       "      <th>long_x</th>\n",
       "      <th>lat_y</th>\n",
       "      <th>student_count</th>\n",
       "      <th>med_sat_value</th>\n",
       "      <th>aid_value</th>\n",
       "      <th>endow_value</th>\n",
       "      <th>year</th>\n",
       "      <th>grad_cohort</th>\n",
       "      <th>grad_100</th>\n",
       "      <th>grad_150</th>\n",
       "      <th>grad_100_rate</th>\n",
       "      <th>grad_150_rate</th>\n",
       "    </tr>\n",
       "  </thead>\n",
       "  <tbody>\n",
       "    <tr>\n",
       "      <th>count</th>\n",
       "      <td>554580.000000</td>\n",
       "      <td>554580.000000</td>\n",
       "      <td>554580.000000</td>\n",
       "      <td>554580.000000</td>\n",
       "      <td>554580.000000</td>\n",
       "      <td>554580.000000</td>\n",
       "      <td>5.545800e+05</td>\n",
       "      <td>554580.000000</td>\n",
       "      <td>338544.000000</td>\n",
       "      <td>269671.000000</td>\n",
       "      <td>338544.000000</td>\n",
       "      <td>235200.000000</td>\n",
       "      <td>273022.000000</td>\n",
       "    </tr>\n",
       "    <tr>\n",
       "      <th>mean</th>\n",
       "      <td>183298.170594</td>\n",
       "      <td>-88.104483</td>\n",
       "      <td>38.565710</td>\n",
       "      <td>5805.244693</td>\n",
       "      <td>1063.940604</td>\n",
       "      <td>12959.119864</td>\n",
       "      <td>4.959904e+04</td>\n",
       "      <td>2007.511392</td>\n",
       "      <td>153.371373</td>\n",
       "      <td>69.396717</td>\n",
       "      <td>89.305213</td>\n",
       "      <td>32.671212</td>\n",
       "      <td>47.960190</td>\n",
       "    </tr>\n",
       "    <tr>\n",
       "      <th>std</th>\n",
       "      <td>44776.699905</td>\n",
       "      <td>14.321944</td>\n",
       "      <td>4.605921</td>\n",
       "      <td>7436.665239</td>\n",
       "      <td>132.402674</td>\n",
       "      <td>7521.400065</td>\n",
       "      <td>1.573178e+05</td>\n",
       "      <td>3.455335</td>\n",
       "      <td>424.340120</td>\n",
       "      <td>210.370415</td>\n",
       "      <td>285.005395</td>\n",
       "      <td>27.582230</td>\n",
       "      <td>28.577169</td>\n",
       "    </tr>\n",
       "    <tr>\n",
       "      <th>min</th>\n",
       "      <td>100663.000000</td>\n",
       "      <td>-158.062444</td>\n",
       "      <td>19.701854</td>\n",
       "      <td>85.000000</td>\n",
       "      <td>666.000000</td>\n",
       "      <td>1184.000000</td>\n",
       "      <td>8.000000e+00</td>\n",
       "      <td>2002.000000</td>\n",
       "      <td>0.000000</td>\n",
       "      <td>0.000000</td>\n",
       "      <td>0.000000</td>\n",
       "      <td>0.000000</td>\n",
       "      <td>0.000000</td>\n",
       "    </tr>\n",
       "    <tr>\n",
       "      <th>25%</th>\n",
       "      <td>152381.000000</td>\n",
       "      <td>-93.743015</td>\n",
       "      <td>35.237657</td>\n",
       "      <td>1371.000000</td>\n",
       "      <td>979.000000</td>\n",
       "      <td>6810.000000</td>\n",
       "      <td>4.392000e+03</td>\n",
       "      <td>2005.000000</td>\n",
       "      <td>1.000000</td>\n",
       "      <td>0.000000</td>\n",
       "      <td>0.000000</td>\n",
       "      <td>9.900000</td>\n",
       "      <td>28.600000</td>\n",
       "    </tr>\n",
       "    <tr>\n",
       "      <th>50%</th>\n",
       "      <td>184694.000000</td>\n",
       "      <td>-84.551918</td>\n",
       "      <td>39.729862</td>\n",
       "      <td>2653.000000</td>\n",
       "      <td>1046.000000</td>\n",
       "      <td>11550.000000</td>\n",
       "      <td>1.154900e+04</td>\n",
       "      <td>2008.000000</td>\n",
       "      <td>10.000000</td>\n",
       "      <td>4.000000</td>\n",
       "      <td>4.000000</td>\n",
       "      <td>27.600000</td>\n",
       "      <td>50.000000</td>\n",
       "    </tr>\n",
       "    <tr>\n",
       "      <th>75%</th>\n",
       "      <td>214698.000000</td>\n",
       "      <td>-77.544068</td>\n",
       "      <td>41.746746</td>\n",
       "      <td>6826.000000</td>\n",
       "      <td>1129.000000</td>\n",
       "      <td>16990.000000</td>\n",
       "      <td>3.280200e+04</td>\n",
       "      <td>2011.000000</td>\n",
       "      <td>109.000000</td>\n",
       "      <td>44.000000</td>\n",
       "      <td>50.000000</td>\n",
       "      <td>50.000000</td>\n",
       "      <td>66.700000</td>\n",
       "    </tr>\n",
       "    <tr>\n",
       "      <th>max</th>\n",
       "      <td>462354.000000</td>\n",
       "      <td>-67.456534</td>\n",
       "      <td>61.191235</td>\n",
       "      <td>51333.000000</td>\n",
       "      <td>1534.000000</td>\n",
       "      <td>41580.000000</td>\n",
       "      <td>2.505435e+06</td>\n",
       "      <td>2013.000000</td>\n",
       "      <td>8533.000000</td>\n",
       "      <td>5243.000000</td>\n",
       "      <td>6859.000000</td>\n",
       "      <td>100.000000</td>\n",
       "      <td>100.000000</td>\n",
       "    </tr>\n",
       "  </tbody>\n",
       "</table>\n",
       "</div>"
      ],
      "text/plain": [
       "              unitid         long_x          lat_y  student_count  \\\n",
       "count  554580.000000  554580.000000  554580.000000  554580.000000   \n",
       "mean   183298.170594     -88.104483      38.565710    5805.244693   \n",
       "std     44776.699905      14.321944       4.605921    7436.665239   \n",
       "min    100663.000000    -158.062444      19.701854      85.000000   \n",
       "25%    152381.000000     -93.743015      35.237657    1371.000000   \n",
       "50%    184694.000000     -84.551918      39.729862    2653.000000   \n",
       "75%    214698.000000     -77.544068      41.746746    6826.000000   \n",
       "max    462354.000000     -67.456534      61.191235   51333.000000   \n",
       "\n",
       "       med_sat_value      aid_value   endow_value           year  \\\n",
       "count  554580.000000  554580.000000  5.545800e+05  554580.000000   \n",
       "mean     1063.940604   12959.119864  4.959904e+04    2007.511392   \n",
       "std       132.402674    7521.400065  1.573178e+05       3.455335   \n",
       "min       666.000000    1184.000000  8.000000e+00    2002.000000   \n",
       "25%       979.000000    6810.000000  4.392000e+03    2005.000000   \n",
       "50%      1046.000000   11550.000000  1.154900e+04    2008.000000   \n",
       "75%      1129.000000   16990.000000  3.280200e+04    2011.000000   \n",
       "max      1534.000000   41580.000000  2.505435e+06    2013.000000   \n",
       "\n",
       "         grad_cohort       grad_100       grad_150  grad_100_rate  \\\n",
       "count  338544.000000  269671.000000  338544.000000  235200.000000   \n",
       "mean      153.371373      69.396717      89.305213      32.671212   \n",
       "std       424.340120     210.370415     285.005395      27.582230   \n",
       "min         0.000000       0.000000       0.000000       0.000000   \n",
       "25%         1.000000       0.000000       0.000000       9.900000   \n",
       "50%        10.000000       4.000000       4.000000      27.600000   \n",
       "75%       109.000000      44.000000      50.000000      50.000000   \n",
       "max      8533.000000    5243.000000    6859.000000     100.000000   \n",
       "\n",
       "       grad_150_rate  \n",
       "count  273022.000000  \n",
       "mean       47.960190  \n",
       "std        28.577169  \n",
       "min         0.000000  \n",
       "25%        28.600000  \n",
       "50%        50.000000  \n",
       "75%        66.700000  \n",
       "max       100.000000  "
      ]
     },
     "execution_count": 31,
     "metadata": {},
     "output_type": "execute_result"
    }
   ],
   "source": [
    "combined_df.describe()#include='all'"
   ]
  },
  {
   "cell_type": "markdown",
   "metadata": {
    "id": "2ZxVIUBI5xUe"
   },
   "source": [
    "### Try it on your own!\n",
    "\n",
    "Try to describe only the four columns that we have previously been working with, rather than the whole table. "
   ]
  },
  {
   "cell_type": "code",
   "execution_count": 32,
   "metadata": {
    "id": "zwRTwd4k5_G8"
   },
   "outputs": [],
   "source": [
    "# Please enter your solution here."
   ]
  },
  {
   "cell_type": "code",
   "execution_count": 33,
   "metadata": {
    "cellView": "form",
    "id": "nwLk5VX1cDEX"
   },
   "outputs": [
    {
     "data": {
      "text/html": [
       "<div>\n",
       "<style scoped>\n",
       "    .dataframe tbody tr th:only-of-type {\n",
       "        vertical-align: middle;\n",
       "    }\n",
       "\n",
       "    .dataframe tbody tr th {\n",
       "        vertical-align: top;\n",
       "    }\n",
       "\n",
       "    .dataframe thead th {\n",
       "        text-align: right;\n",
       "    }\n",
       "</style>\n",
       "<table border=\"1\" class=\"dataframe\">\n",
       "  <thead>\n",
       "    <tr style=\"text-align: right;\">\n",
       "      <th></th>\n",
       "      <th>student_count</th>\n",
       "      <th>med_sat_value</th>\n",
       "      <th>aid_value</th>\n",
       "      <th>endow_value</th>\n",
       "    </tr>\n",
       "  </thead>\n",
       "  <tbody>\n",
       "    <tr>\n",
       "      <th>count</th>\n",
       "      <td>554580.000000</td>\n",
       "      <td>554580.000000</td>\n",
       "      <td>554580.000000</td>\n",
       "      <td>5.545800e+05</td>\n",
       "    </tr>\n",
       "    <tr>\n",
       "      <th>mean</th>\n",
       "      <td>5805.244693</td>\n",
       "      <td>1063.940604</td>\n",
       "      <td>12959.119864</td>\n",
       "      <td>4.959904e+04</td>\n",
       "    </tr>\n",
       "    <tr>\n",
       "      <th>std</th>\n",
       "      <td>7436.665239</td>\n",
       "      <td>132.402674</td>\n",
       "      <td>7521.400065</td>\n",
       "      <td>1.573178e+05</td>\n",
       "    </tr>\n",
       "    <tr>\n",
       "      <th>min</th>\n",
       "      <td>85.000000</td>\n",
       "      <td>666.000000</td>\n",
       "      <td>1184.000000</td>\n",
       "      <td>8.000000e+00</td>\n",
       "    </tr>\n",
       "    <tr>\n",
       "      <th>25%</th>\n",
       "      <td>1371.000000</td>\n",
       "      <td>979.000000</td>\n",
       "      <td>6810.000000</td>\n",
       "      <td>4.392000e+03</td>\n",
       "    </tr>\n",
       "    <tr>\n",
       "      <th>50%</th>\n",
       "      <td>2653.000000</td>\n",
       "      <td>1046.000000</td>\n",
       "      <td>11550.000000</td>\n",
       "      <td>1.154900e+04</td>\n",
       "    </tr>\n",
       "    <tr>\n",
       "      <th>75%</th>\n",
       "      <td>6826.000000</td>\n",
       "      <td>1129.000000</td>\n",
       "      <td>16990.000000</td>\n",
       "      <td>3.280200e+04</td>\n",
       "    </tr>\n",
       "    <tr>\n",
       "      <th>max</th>\n",
       "      <td>51333.000000</td>\n",
       "      <td>1534.000000</td>\n",
       "      <td>41580.000000</td>\n",
       "      <td>2.505435e+06</td>\n",
       "    </tr>\n",
       "  </tbody>\n",
       "</table>\n",
       "</div>"
      ],
      "text/plain": [
       "       student_count  med_sat_value      aid_value   endow_value\n",
       "count  554580.000000  554580.000000  554580.000000  5.545800e+05\n",
       "mean     5805.244693    1063.940604   12959.119864  4.959904e+04\n",
       "std      7436.665239     132.402674    7521.400065  1.573178e+05\n",
       "min        85.000000     666.000000    1184.000000  8.000000e+00\n",
       "25%      1371.000000     979.000000    6810.000000  4.392000e+03\n",
       "50%      2653.000000    1046.000000   11550.000000  1.154900e+04\n",
       "75%      6826.000000    1129.000000   16990.000000  3.280200e+04\n",
       "max     51333.000000    1534.000000   41580.000000  2.505435e+06"
      ]
     },
     "execution_count": 33,
     "metadata": {},
     "output_type": "execute_result"
    }
   ],
   "source": [
    "# Possible Solution\n",
    "combined_df[['student_count', 'med_sat_value',\n",
    "             'aid_value', 'endow_value']].describe()\n"
   ]
  },
  {
   "cell_type": "markdown",
   "metadata": {
    "id": "7A-UdElt-ezo"
   },
   "source": [
    "# Saving Files\n",
    "\n",
    "Lastly, we want to save our combined dataframe so that we can use it for future analyses. To do this, we use the function to_csv(). Please fill in the data path below and save the file some place where you will ba able to locate it in the future. "
   ]
  },
  {
   "cell_type": "code",
   "execution_count": 34,
   "metadata": {
    "colab": {
     "base_uri": "https://localhost:8080/",
     "height": 167
    },
    "executionInfo": {
     "elapsed": 223,
     "status": "error",
     "timestamp": 1631063972959,
     "user": {
      "displayName": "John Kirollos",
      "photoUrl": "https://lh3.googleusercontent.com/a-/AOh14GhXlpWNgQGE88mhrSgUJB6Dx3RLSlEhHifAZALdwg=s64",
      "userId": "10752091771659842492"
     },
     "user_tz": 240
    },
    "id": "Cayk2Pss-dHg",
    "outputId": "fbea0146-818b-483c-8074-badaf79cc35e"
   },
   "outputs": [],
   "source": [
    "#combined_df.to_csv('combined_df.csv', index=False)"
   ]
  },
  {
   "cell_type": "markdown",
   "metadata": {
    "id": "bp9ClE8kwS-5"
   },
   "source": [
    "# Conclusions\n",
    "\n",
    "This case introduced us to some basic Pandas concepts, but this is just a start. Pandas is incredibly powerful and innumerable applications. Data Science and Pandas go hand in hand and is crucial to a data science career today. \n",
    "\n",
    "If you would like more information on Pandas, please check out the [documentation](https://pandas.pydata.org/docs/reference/index.html) which outlines all of the Pandas functions and their uses. "
   ]
  },
  {
   "cell_type": "code",
   "execution_count": null,
   "metadata": {},
   "outputs": [],
   "source": []
  }
 ],
 "metadata": {
  "colab": {
   "collapsed_sections": [],
   "name": "Workshop 1: Pandas and Python.ipynb",
   "provenance": []
  },
  "kernelspec": {
   "display_name": "Python 3",
   "language": "python",
   "name": "python3"
  },
  "language_info": {
   "codemirror_mode": {
    "name": "ipython",
    "version": 3
   },
   "file_extension": ".py",
   "mimetype": "text/x-python",
   "name": "python",
   "nbconvert_exporter": "python",
   "pygments_lexer": "ipython3",
   "version": "3.8.5"
  }
 },
 "nbformat": 4,
 "nbformat_minor": 1
}
